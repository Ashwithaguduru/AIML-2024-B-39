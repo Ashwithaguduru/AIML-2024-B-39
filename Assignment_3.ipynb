{
  "nbformat": 4,
  "nbformat_minor": 0,
  "metadata": {
    "colab": {
      "provenance": [],
      "authorship_tag": "ABX9TyOaewqWiauD7cPl3ERPvJ6C",
      "include_colab_link": true
    },
    "kernelspec": {
      "name": "python3",
      "display_name": "Python 3"
    },
    "language_info": {
      "name": "python"
    }
  },
  "cells": [
    {
      "cell_type": "markdown",
      "metadata": {
        "id": "view-in-github",
        "colab_type": "text"
      },
      "source": [
        "<a href=\"https://colab.research.google.com/github/Ashwithaguduru/AIML-2024-B-39/blob/main/Assignment_3.ipynb\" target=\"_parent\"><img src=\"https://colab.research.google.com/assets/colab-badge.svg\" alt=\"Open In Colab\"/></a>"
      ]
    },
    {
      "cell_type": "code",
      "execution_count": null,
      "metadata": {
        "colab": {
          "base_uri": "https://localhost:8080/"
        },
        "id": "Xb9HV1yioiaW",
        "outputId": "050efa8d-9c1f-4137-8d65-815aecfd256d"
      },
      "outputs": [
        {
          "output_type": "stream",
          "name": "stdout",
          "text": [
            "25\n"
          ]
        }
      ],
      "source": [
        "#IMPLEMENT MIN MAX GAME ALGORITHM\n",
        "def max_min(node, depth, maximizing_player):\n",
        "    if depth == 0 or is_leaf_node(node):\n",
        "        return evaluate(node)\n",
        "\n",
        "    if maximizing_player:\n",
        "        max_eval = float('-inf')\n",
        "        for child in get_children(node):\n",
        "            eval = max_min(child, depth - 1, False)\n",
        "            max_eval = max(max_eval, eval)\n",
        "        return max_eval\n",
        "    else:\n",
        "        min_eval = float('inf')\n",
        "        for child in get_children(node):\n",
        "            eval = max_min(child, depth - 1, True)\n",
        "            min_eval = min(min_eval, eval)\n",
        "        return min_eval\n",
        "\n",
        "# Example functions (you need to define these according to your scenario)\n",
        "def is_leaf_node(node):\n",
        "    # Check if the node is a leaf node (has no children)\n",
        "    return not node['children']\n",
        "\n",
        "def evaluate(node):\n",
        "    # Return the value associated with the leaf node\n",
        "    return node['value']\n",
        "\n",
        "def get_children(node):\n",
        "    # Return a list of children nodes\n",
        "    return node['children']\n",
        "\n",
        "# Example scenario\n",
        "node_b = {'value': None, 'children': [{'value': 12, 'children': []}, {'value': 10, 'children': []}]}\n",
        "node_c = {'value': None, 'children': [{'value': 36, 'children': []}, {'value': 25, 'children': []}]}\n",
        "node_a = {'value': None, 'children': [node_b, node_c]}\n",
        "\n",
        "result = max_min(node_a, depth=3, maximizing_player=True)\n",
        "print(result)\n",
        "\n",
        "\n"
      ]
    }
  ]
}
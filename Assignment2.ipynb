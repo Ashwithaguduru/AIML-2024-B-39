{
  "nbformat": 4,
  "nbformat_minor": 0,
  "metadata": {
    "colab": {
      "provenance": [],
      "authorship_tag": "ABX9TyNXDPBZFh2IgnH6HObuiQSb",
      "include_colab_link": true
    },
    "kernelspec": {
      "name": "python3",
      "display_name": "Python 3"
    },
    "language_info": {
      "name": "python"
    }
  },
  "cells": [
    {
      "cell_type": "markdown",
      "metadata": {
        "id": "view-in-github",
        "colab_type": "text"
      },
      "source": [
        "<a href=\"https://colab.research.google.com/github/Ashwithaguduru/AIML-2024-B-39/blob/main/Assignment2.ipynb\" target=\"_parent\"><img src=\"https://colab.research.google.com/assets/colab-badge.svg\" alt=\"Open In Colab\"/></a>"
      ]
    },
    {
      "cell_type": "code",
      "execution_count": null,
      "metadata": {
        "colab": {
          "base_uri": "https://localhost:8080/"
        },
        "id": "YVox3qFMxem2",
        "outputId": "01d6a9d7-7497-45b8-b6a0-0d3c2c77989f"
      },
      "outputs": [
        {
          "output_type": "stream",
          "name": "stdout",
          "text": [
            "The path from A to G is: A -> CD -> CD2 -> G\n",
            "The total distance traveled is 5\n"
          ]
        }
      ],
      "source": [
        "from collections import defaultdict, deque\n",
        "\n",
        "def bfs(graph, start, end):\n",
        "    queue = deque([(start, [start], 0)])\n",
        "    visited = set([start])\n",
        "    while queue:\n",
        "        (vertex, path, distance) = queue.popleft()\n",
        "        for neighbor, weight in graph[vertex].items():\n",
        "            if neighbor == end:\n",
        "                return path + [neighbor], distance + weight\n",
        "            elif neighbor not in visited:\n",
        "                visited.add(neighbor)\n",
        "                queue.append((neighbor, path + [neighbor], distance + weight))\n",
        "    return None\n",
        "\n",
        "# Example usage\n",
        "graph = defaultdict(dict)\n",
        "graph['A'] = {'A': 2,'AB':4,'CD':3}\n",
        "graph['AB'] = {'B': 6}\n",
        "graph['B'] = {'H': 3}\n",
        "graph['H'] = {'H': 1,'I':1}\n",
        "graph['I'] = {'X': 0.5,'Y':0.5}\n",
        "graph['CD'] = {'CD2': 1,'DE':2}\n",
        "graph['Y'] = {'G': 4}\n",
        "graph['CD2'] = {'G': 1}\n",
        "graph['DE'] = {'CD': 5,'F':1}\n",
        "graph['F'] = {'G': 6}\n",
        "\n",
        "\n",
        "start = 'A'\n",
        "end = 'G'\n",
        "\n",
        "path, distance = bfs(graph, start, end)\n",
        "if path:\n",
        "    print(f\"The path from {start} to {end} is: {' -> '.join(path)}\")\n",
        "    print(f\"The total distance traveled is {distance}\")\n",
        "else:\n",
        "    print(f\"No path found from {start} to {end}\")"
      ]
    }
  ]
}